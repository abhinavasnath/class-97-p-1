{
  "nbformat": 4,
  "nbformat_minor": 0,
  "metadata": {
    "colab": {
      "provenance": [],
      "authorship_tag": "ABX9TyP5eFljWenZ1tfT9XTMl2t4",
      "include_colab_link": true
    },
    "kernelspec": {
      "name": "python3",
      "display_name": "Python 3"
    },
    "language_info": {
      "name": "python"
    }
  },
  "cells": [
    {
      "cell_type": "markdown",
      "metadata": {
        "id": "view-in-github",
        "colab_type": "text"
      },
      "source": [
        "<a href=\"https://colab.research.google.com/github/abhinavasnath/class-97-p-1/blob/main/Untitled0.ipynb\" target=\"_parent\"><img src=\"https://colab.research.google.com/assets/colab-badge.svg\" alt=\"Open In Colab\"/></a>"
      ]
    },
    {
      "cell_type": "code",
      "execution_count": 6,
      "metadata": {
        "colab": {
          "base_uri": "https://localhost:8080/"
        },
        "id": "nHKx0emglxcm",
        "outputId": "e553babf-5aba-4af2-f211-62f324ae5de2"
      },
      "outputs": [
        {
          "output_type": "stream",
          "name": "stdout",
          "text": [
            "enter first number :30\n",
            "enter second number :200\n",
            "enter the option 1 or 2 :2\n",
            "-170\n"
          ]
        }
      ],
      "source": [
        "def calculate():\n",
        " a=int(input(\"enter first number :\"))\n",
        " b=int(input(\"enter second number :\"))\n",
        " option=int(input(\"enter the option 1 or 2 :\"))\n",
        " if(option==1):\n",
        "   print(a+b)\n",
        " else:\n",
        "   print(a-b)\n",
        "calculate()\n",
        "\n"
      ]
    }
  ]
}